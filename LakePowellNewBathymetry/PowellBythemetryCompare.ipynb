{
 "cells": [
  {
   "cell_type": "markdown",
   "metadata": {
    "colab_type": "text",
    "id": "view-in-github"
   },
   "source": [
    "<a href=\"https://colab.research.google.com/github/dzeke/ColoradoRiverCollaborate/blob/main/Powell10year.ipynb\" target=\"_parent\"><img src=\"https://colab.research.google.com/assets/colab-badge.svg\" alt=\"Open In Colab\"/></a>"
   ]
  },
  {
   "attachments": {},
   "cell_type": "markdown",
   "metadata": {
    "id": "EMrbqjSjJk7L"
   },
   "source": [
    "# Lake Powell Bythemetry: # Compare 2017 Update to Pre 2017\n",
    "May 12, 2024\n",
    "\n",
    "## Overview\n",
    "This is a Notebook (.ipynb). This document reads bathymetry (elevation-storage-area) data for Lake Powell fromthe 2017 update and pre-2017. We then plot:\n",
    "\n",
    " + Area and Active Storage curves for 2017 and pre-2017.\n",
    " + Difference in active storage at each elevation.\n",
    "\n",
    "Data Sources:\n",
    "  + Pre 2017 - Export from Colorado River Simulation System (CRSS) model.\n",
    "  + 2017 - Bradley, D., and Collins, K. (2022). \"Lake Powell 2017 Area and Capacity Tables.\" ENV-2021-98, Reclamation. https://doi.org/10.5066/P9O3IPG3.\n",
    "\n",
    "Directions to Open, Edit, and Run (Windows)\n",
    "\n",
    "    1. Download all the files into a new local folder on your machine or storage device (e.g., c:\\users\\myfolder).\n",
    "    2. Open a command prompt (c:).\n",
    "    3. Install the Juptyer server. At the command prompt type:\n",
    "\n",
    "            pip install jupyter\n",
    "\n",
    "    4. Navigate to the folder where this file is stored. For example:\n",
    "\n",
    "            cd C:\\users\\myfolder\n",
    "\n",
    "    5. Type the command:\n",
    "\n",
    "            jupyter notebook\n",
    "\n",
    "    6. A new webpage will open in your browser with the url http://localhost:8888/tree.\n",
    "    7. Select this file from the list -- PowellBythemetryCompare.ipynb.\n",
    "    8. This page will display.\n",
    "    9. Select the first cell -- e.g., block [47] to run or edit. You should see the follow output:\n",
    "\n",
    "      Elevation Volume2017 Area2017 VolumePre2017 AreaPre2017 DifferenceVolume  \\\n",
    "\n",
    "    10. Run each successive cell.\n",
    "\n",
    "## Requested Citation\n",
    "David E. Rosenberg (2021), “Lake Powell Bythemetry.” Utah State University. Logan, Utah.\n",
    "https://github.com/dzeke/ColoradoRiverCollaborate/tree/main/LakePowellNewBathymetry.\n",
    "\n",
    "### Pandas Cheat Sheet\n",
    "Pandas cheat sheet at https://pandas.pydata.org/docs/user_guide/10min.html.\n",
    "# Import Data"
   ]
  },
  {
   "cell_type": "code",
   "execution_count": 60,
   "metadata": {
    "colab": {
     "base_uri": "https://localhost:8080/"
    },
    "id": "DVKUQenPLS2Z",
    "outputId": "a3ddc805-db2d-4921-ad69-4181ec9fd0fd"
   },
   "outputs": [
    {
     "name": "stdout",
     "output_type": "stream",
     "text": [
      "\n",
      "    Elevation Volume2017 Area2017 VolumePre2017 AreaPre2017 DifferenceVolume  \\\n",
      "3        3371      0.02     1.90          0.02        2.05             0.00    \n",
      "4        3372      0.04     1.91          0.04        2.07             0.00    \n",
      "5        3373      0.06     1.92          0.06        2.08             0.00    \n",
      "6        3374      0.08     1.94          0.08        2.10             0.01    \n",
      "7        3375      0.10     1.95          0.10        2.12             0.01    \n",
      "..        ...        ...      ...           ...         ...              ...   \n",
      "338      3706     24.28    16.24         25.30       16.57             1.03    \n",
      "339      3707     24.44    16.31         25.47       16.65             1.03    \n",
      "340      3708     24.60    16.38         25.63       16.73             1.03    \n",
      "341      3709     24.77    16.45         25.80       16.81             1.04    \n",
      "342      3710     24.93    16.52         25.97       16.89             1.04    \n",
      "\n",
      "    DifferenceArea  \n",
      "3           0.151   \n",
      "4           0.155   \n",
      "5           0.160   \n",
      "6           0.166   \n",
      "7           0.171   \n",
      "..             ...  \n",
      "338         0.326   \n",
      "339         0.336   \n",
      "340         0.347   \n",
      "341         0.359   \n",
      "342         0.371   \n",
      "\n",
      "[340 rows x 7 columns]\n",
      "0\n",
      "1\n",
      "2\n",
      "3\n",
      "4\n",
      "5\n",
      "6\n",
      "Elevation           float64\n",
      "Volume2017          float64\n",
      "Area2017            float64\n",
      "VolumePre2017       float64\n",
      "AreaPre2017         float64\n",
      "DifferenceVolume    float64\n",
      "DifferenceArea      float64\n",
      "dtype: object\n",
      "     Elevation  Volume2017  Area2017  VolumePre2017  AreaPre2017  \\\n",
      "3       3371.0        0.02      1.90           0.02         2.05   \n",
      "4       3372.0        0.04      1.91           0.04         2.07   \n",
      "5       3373.0        0.06      1.92           0.06         2.08   \n",
      "6       3374.0        0.08      1.94           0.08         2.10   \n",
      "7       3375.0        0.10      1.95           0.10         2.12   \n",
      "..         ...         ...       ...            ...          ...   \n",
      "338     3706.0       24.28     16.24          25.30        16.57   \n",
      "339     3707.0       24.44     16.31          25.47        16.65   \n",
      "340     3708.0       24.60     16.38          25.63        16.73   \n",
      "341     3709.0       24.77     16.45          25.80        16.81   \n",
      "342     3710.0       24.93     16.52          25.97        16.89   \n",
      "\n",
      "     DifferenceVolume  DifferenceArea  \n",
      "3                0.00           0.151  \n",
      "4                0.00           0.155  \n",
      "5                0.00           0.160  \n",
      "6                0.01           0.166  \n",
      "7                0.01           0.171  \n",
      "..                ...             ...  \n",
      "338              1.03           0.326  \n",
      "339              1.03           0.336  \n",
      "340              1.03           0.347  \n",
      "341              1.04           0.359  \n",
      "342              1.04           0.371  \n",
      "\n",
      "[340 rows x 7 columns]\n"
     ]
    }
   ],
   "source": [
    "import pandas as pd\n",
    "import numpy as np\n",
    "from pandas.api.types import CategoricalDtype\n",
    "\n",
    "# Add this command on first run of cell\n",
    "#!pip install plotnine\n",
    "from plotnine import *\n",
    "from plotnine.data import mpg\n",
    "%matplotlib inline\n",
    "\n",
    "# Load the data from a csv file on Github\n",
    "BathDataFileName = 'Lake_Powell_Area_Capacity_Table_Report_FINAL.csv'\n",
    "# Move the Dataset into a Pandas Dataframe\n",
    "dfBath = pd.read_csv(BathDataFileName)\n",
    "# Read the number of rows\n",
    "nRows = len(dfBath)\n",
    "\n",
    "print()\n",
    "#print(dfBath.dtypes)\n",
    "#print(dfBath)\n",
    "\n",
    "#Change the names of the columns\n",
    "dfBath.columns = ['Elevation', 'Volume2017', 'Area2017', 'VolumePre2017', 'AreaPre2017', 'DifferenceVolume', 'DifferenceArea' ]\n",
    "#Drop the first row which is text\n",
    "dfBath.drop(labels=[0, 1, 2], axis=0, inplace = True)\n",
    "dfBath.reset_index()\n",
    "\n",
    "print(dfBath)\n",
    "\n",
    "#Convert to float\n",
    "lBathColNames = list(dfBath.columns)\n",
    "\n",
    "for j in range(0,len(lBathColNames)):\n",
    "    print(j)\n",
    "    dfBath[lBathColNames[j]] = dfBath[lBathColNames[j]].astype(float)\n",
    "\n",
    "print(dfBath.dtypes)\n",
    "print(dfBath)"
   ]
  },
  {
   "cell_type": "markdown",
   "metadata": {
    "id": "NyyXinO0e0_6"
   },
   "source": [
    "# Figure 1. Lake Powell Bathymetry Data"
   ]
  },
  {
   "cell_type": "code",
   "execution_count": 64,
   "metadata": {
    "colab": {
     "base_uri": "https://localhost:8080/",
     "height": 995
    },
    "id": "o_TEtKb4fGIp",
    "outputId": "6c157144-91c5-4ff8-dce9-ba56fd04d578"
   },
   "outputs": [
    {
     "data": {
      "image/png": "[encoded data removed]",
      "text/plain": [
       "<Figure size 640x480 with 1 Axes>"
      ]
     },
     "metadata": {},
     "output_type": "display_data"
    }
   ],
   "source": [
    "# Use matplotlib\n",
    "\n",
    "import matplotlib.pyplot as plt\n",
    "\n",
    "plt.scatter(dfBath.Volume2017, dfBath.Elevation, color = \"blue\")\n",
    "plt.scatter(dfBath.VolumePre2017, dfBath.Elevation, color = \"red\")\n",
    "plt.xlabel('Active Storage\\n(million acre-feet)')\n",
    "plt.ylabel('Elevation\\n(feet)')\n",
    "plt.legend([\"2017\", \"Before 2017\"], loc=\"upper left\")\n",
    "\n",
    "\n",
    "#plt.xticks(np.arange(0, 20, 2))\n",
    "#plt.yticks(np.arange(3370, 3710, 10))\n",
    "plt.grid(axis = 'y', linestyle = \"dotted\")\n"
   ]
  },
  {
   "cell_type": "markdown",
   "metadata": {
    "id": "hAXXy88LNrN6"
   },
   "source": [
    "# Figure 2. Difference between 2017 and Pre 2017 Volumes"
   ]
  },
  {
   "cell_type": "code",
   "execution_count": null,
   "metadata": {
    "colab": {
     "base_uri": "https://localhost:8080/",
     "height": 747
    },
    "id": "Vre_vonCrMOD",
    "outputId": "bf69e7c6-d177-4490-e75b-546617cd6ce5"
   },
   "outputs": [],
   "source": [
    "# Figure 2. Difference\n",
    "\n",
    "plt.scatter(dfBath.DifferenceVolume, dfBath.Elevation, color = \"black\")\n",
    "plt.xlabel('Volume\\n(million\n",
    "\n",
    " acre-feet)')\n",
    "plt.ylabel('Elevation\\n(feet)')\n",
    "plt.grid(axis = 'y', linestyle = \"dotted\")"
   ]
  },
  {
   "cell_type": "markdown",
   "metadata": {
    "id": "vhv48Jl5NjRo"
   },
   "source": []
  }
 ],
 "metadata": {
  "colab": {
   "authorship_tag": "ABX9TyPlbGeF4BSAq00+2atDNupH",
   "include_colab_link": true,
   "provenance": []
  },
  "kernelspec": {
   "display_name": "Python 3 (ipykernel)",
   "language": "python",
   "name": "python3"
  },
  "language_info": {
   "codemirror_mode": {
    "name": "ipython",
    "version": 3
   },
   "file_extension": ".py",
   "mimetype": "text/x-python",
   "name": "python",
   "nbconvert_exporter": "python",
   "pygments_lexer": "ipython3",
   "version": "3.8.5"
  }
 },
 "nbformat": 4,
 "nbformat_minor": 4
}
